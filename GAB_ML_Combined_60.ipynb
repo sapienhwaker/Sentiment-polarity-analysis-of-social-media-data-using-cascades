{
  "nbformat": 4,
  "nbformat_minor": 0,
  "metadata": {
    "colab": {
      "name": "GAB ML Combined 60.ipynb",
      "provenance": [],
      "collapsed_sections": []
    },
    "kernelspec": {
      "name": "python3",
      "display_name": "Python 3"
    }
  },
  "cells": [
    {
      "cell_type": "code",
      "metadata": {
        "colab": {
          "base_uri": "https://localhost:8080/"
        },
        "id": "f_NulU0P9MP3",
        "outputId": "684e6cb0-ec0d-4e78-f057-2c4fd31aa446"
      },
      "source": [
        "from sklearn.model_selection import train_test_split\n",
        "from sklearn import metrics\n",
        "from sklearn.preprocessing import Normalizer\n",
        "from sklearn.preprocessing import StandardScaler, MinMaxScaler\n",
        "\n",
        "from sklearn.neural_network import MLPClassifier\n",
        "\n",
        "import pandas as pd\n",
        "import numpy as np\n",
        "\n",
        "features_dataframe = pd.read_csv('/content/drive/MyDrive/Research/Final GAB files/Features9jan21_70.csv')\n",
        "\n",
        "def conditions(s):\n",
        "  return s['Sentiment_score_entire_cascade'] - s['Sentiment_score_upto_level_k']\n",
        "\n",
        "def average_conditions(s):\n",
        "  return s['Average_sentiment_entire_cascade'] - s['Average_sentiment_upto_k']\n",
        "\n",
        "def positive_conditions(s):\n",
        "  return s['Positive_nodes_entire_cascade'] - s['Positive_nodes_upto_k']\n",
        "\n",
        "def negative_conditions(s):\n",
        "  return s['Negative_nodes_entire_cascade'] - s['Negative_nodes_upto_k']\n",
        "\n",
        "def get_followers_after_k(s):\n",
        "  return s['Followers_entire_cascade'] - s['Followers_upto_k']\n",
        "\n",
        "def get_followers_after_k(s):\n",
        "  return s['Total_nodes_entire_cascade'] - s['Total_nodes_upto_k']\n",
        "\n",
        "def getPolarityChange(s):\n",
        "  if s['Sentiment_score_upto_level_k']*s['Sentiment_score_after_k'] > 0:\n",
        "    return 0\n",
        "  else:\n",
        "    return 1\n",
        "\n",
        "def get_polarity_after_k(s):\n",
        "  if s['Sentiment_score_after_k'] >0:\n",
        "    return 1\n",
        "  else:\n",
        "    return 0\n",
        "\n",
        "features_dataframe['Sentiment_score_after_k'] = features_dataframe.apply(conditions, axis=1)\n",
        "features_dataframe['Followers_after_k'] = features_dataframe.apply(get_followers_after_k, axis=1)\n",
        "features_dataframe['Average_sentiment_after_k'] = features_dataframe.apply(average_conditions, axis=1)\n",
        "features_dataframe['Positive_nodes_after_k'] = features_dataframe.apply(positive_conditions, axis=1)\n",
        "features_dataframe['Negative_nodes_after_k'] = features_dataframe.apply(negative_conditions, axis=1)\n",
        "features_dataframe['Polarity_change_after_k'] = features_dataframe.apply(getPolarityChange, axis=1)\n",
        "features_dataframe['Polarity_after_k'] = features_dataframe.apply(get_polarity_after_k, axis=1)\n",
        "features_dataframe['Total_nodes_after_k'] = features_dataframe.apply(get_polarity_after_k, axis=1)\n",
        "\n",
        "counts = features_dataframe['Polarity_change_after_k'].value_counts().to_dict()\n",
        "print(\"Polarity change after k\")\n",
        "print(counts)\n",
        "\n",
        "counts = features_dataframe['Polarity_after_k'].value_counts().to_dict()\n",
        "print(\"Polarity after k\")\n",
        "print(counts)\n",
        "\n",
        "#X = features_dataframe[['k_levels','Total_nodes_upto_k','Positive_edges_upto_k','Negative_edges_upto_k','Positive_nodes_upto_k','Negative_nodes_upto_k','Sentiment_score_upto_level_k','Average_sentiment_upto_k','Total_users_upto_k']]\n",
        "#ALL#X = features_dataframe[['Total_nodes_upto_k','Total_users_upto_k','Cascade_influence','followers_influence','border_influence','ineffectivity','Positive_nodes_upto_k','Negative_nodes_upto_k','Sentiment_score_upto_level_k','Average_sentiment_upto_k','Positive_edges_upto_k','Negative_edges_upto_k','Root_followers_upto_k','Total_root_followers']]\n",
        "#USER#X = features_dataframe[['Total_users_upto_k','Cascade_influence','followers_influence','border_influence','ineffectivity','Root_followers_upto_k','Total_root_followers']]\n",
        "X = features_dataframe[['Positive_nodes_upto_k','Negative_nodes_upto_k','Sentiment_score_upto_level_k','Average_sentiment_upto_k','Positive_edges_upto_k','Negative_edges_upto_k']]\n",
        "transformer_object = Normalizer().fit(X)\n",
        "transformer = transformer_object.transform(X)\n",
        "\n",
        "Y = features_dataframe['Polarity_change_after_k']\n",
        "Z = features_dataframe['Polarity_after_k']"
      ],
      "execution_count": 1,
      "outputs": [
        {
          "output_type": "stream",
          "text": [
            "Polarity change after k\n",
            "{0: 7735, 1: 3189}\n",
            "Polarity after k\n",
            "{1: 8651, 0: 2273}\n"
          ],
          "name": "stdout"
        }
      ]
    },
    {
      "cell_type": "code",
      "metadata": {
        "id": "w17zcb8_98zz"
      },
      "source": [
        ""
      ],
      "execution_count": 1,
      "outputs": []
    },
    {
      "cell_type": "code",
      "metadata": {
        "id": "ReRxTHj19yn_"
      },
      "source": [
        "#RANDOM FOREST\n",
        "\n",
        "from sklearn.ensemble import RandomForestClassifier\n",
        "X_train, X_test, y_train, y_test = train_test_split(transformer, Y, test_size=0.20, random_state=0)\n",
        "classifier = RandomForestClassifier(n_estimators=100)\n",
        "classifier.fit(X_train, y_train)\n",
        "y_pred = classifier.predict(X_test)\n",
        "random_forest_change = classifier.score(X_test, y_test)\n",
        "\n",
        "X_train, X_test, y_train, y_test = train_test_split(transformer, Z, test_size=0.20, random_state=0)\n",
        "\n",
        "classifier.fit(X_train, y_train)\n",
        "y_pred = classifier.predict(X_test)\n",
        "random_forest = classifier.score(X_test, y_test)"
      ],
      "execution_count": 2,
      "outputs": []
    },
    {
      "cell_type": "code",
      "metadata": {
        "id": "DX8AAdnz9ylo",
        "colab": {
          "base_uri": "https://localhost:8080/"
        },
        "outputId": "123448ae-31e1-4cd7-8b0f-799705fbf146"
      },
      "source": [
        "#NN Multilayer perceptron\n",
        "\n",
        "from sklearn.neural_network import MLPClassifier\n",
        "from sklearn.datasets import make_classification\n",
        "X_train, X_test, y_train, y_test = train_test_split(transformer, Y, test_size=0.20, random_state=0)\n",
        "clf = MLPClassifier(random_state=1, max_iter=100).fit(X_train, y_train)\n",
        "clf.predict_proba(X_test[:])\n",
        "\n",
        "clf.predict(X_test[:, :])\n",
        "\n",
        "multilayer_perceptron_change = clf.score(X_test, y_test)\n",
        "\n",
        "X_train, X_test, y_train, y_test = train_test_split(transformer, Z, test_size=0.20, random_state=0)\n",
        "\n",
        "clf = MLPClassifier(random_state=1, max_iter=100).fit(X_train, y_train)\n",
        "clf.predict_proba(X_test[:])\n",
        "\n",
        "clf.predict(X_test[:, :])\n",
        "\n",
        "multilayer_perceptron = clf.score(X_test, y_test)"
      ],
      "execution_count": 3,
      "outputs": [
        {
          "output_type": "stream",
          "text": [
            "/usr/local/lib/python3.6/dist-packages/sklearn/neural_network/_multilayer_perceptron.py:571: ConvergenceWarning: Stochastic Optimizer: Maximum iterations (100) reached and the optimization hasn't converged yet.\n",
            "  % self.max_iter, ConvergenceWarning)\n"
          ],
          "name": "stderr"
        }
      ]
    },
    {
      "cell_type": "code",
      "metadata": {
        "id": "G0l3miAdodfS"
      },
      "source": [
        "#Decision Tree Classifier\n",
        "\n",
        "from sklearn.model_selection import cross_val_score\n",
        "from sklearn.tree import DecisionTreeClassifier\n",
        "X_train, X_test, y_train, y_test = train_test_split(transformer, Y, test_size=0.20, random_state=0)\n",
        "clf = DecisionTreeClassifier(random_state=0).fit(X_train, y_train)\n",
        "clf.predict_proba(X_test[:])\n",
        "\n",
        "clf.predict(X_test[:, :])\n",
        "\n",
        "decision_tree_change = clf.score(X_test, y_test)\n",
        "\n",
        "X_train, X_test, y_train, y_test = train_test_split(transformer, Z, test_size=0.20, random_state=0)\n",
        "\n",
        "clf = DecisionTreeClassifier(random_state=0).fit(X_train, y_train)\n",
        "clf.predict_proba(X_test[:])\n",
        "\n",
        "clf.predict(X_test[:, :])\n",
        "\n",
        "decision_tree = clf.score(X_test, y_test)"
      ],
      "execution_count": 4,
      "outputs": []
    },
    {
      "cell_type": "code",
      "metadata": {
        "id": "SLS-XO3XpkUV"
      },
      "source": [
        "#GaussianNB\n",
        "\n",
        "from sklearn.naive_bayes import GaussianNB\n",
        "X_train, X_test, y_train, y_test = train_test_split(transformer, Y, test_size=0.20, random_state=0)\n",
        "clf = GaussianNB()\n",
        "clf.fit(X_train, y_train)\n",
        "\n",
        "clf.predict(X_test[:, :])\n",
        "gaussianNB_change = clf.score(X_test, y_test)\n",
        "\n",
        "X_train, X_test, y_train, y_test = train_test_split(transformer, Z, test_size=0.20, random_state=0)\n",
        "\n",
        "clf.fit(X_train, y_train)\n",
        "\n",
        "clf.predict(X_test[:, :])\n",
        "gaussianNB = clf.score(X_test, y_test)"
      ],
      "execution_count": 5,
      "outputs": []
    },
    {
      "cell_type": "code",
      "metadata": {
        "id": "fuy57ehRp-Dq"
      },
      "source": [
        "#Quadratic Discriminant Analysis\n",
        "\n",
        "from sklearn.discriminant_analysis import QuadraticDiscriminantAnalysis\n",
        "X_train, X_test, y_train, y_test = train_test_split(transformer, Y, test_size=0.20, random_state=0)\n",
        "clf = QuadraticDiscriminantAnalysis()\n",
        "clf.fit(X_train, y_train)\n",
        "\n",
        "clf.predict(X_test[:, :])\n",
        "quadratic_discriminant_change = clf.score(X_test, y_test)\n",
        "\n",
        "X_train, X_test, y_train, y_test = train_test_split(transformer, Z, test_size=0.20, random_state=0)\n",
        "\n",
        "clf.fit(X_train, y_train)\n",
        "\n",
        "clf.predict(X_test[:, :])\n",
        "quadratic_discriminant = clf.score(X_test, y_test)"
      ],
      "execution_count": 6,
      "outputs": []
    },
    {
      "cell_type": "code",
      "metadata": {
        "id": "FghwJ2pAqq0U"
      },
      "source": [
        "#Ada Boost Classifier\n",
        "\n",
        "from sklearn.ensemble import AdaBoostClassifier\n",
        "from sklearn.datasets import make_classification\n",
        "X_train, X_test, y_train, y_test = train_test_split(transformer, Y, test_size=0.20, random_state=0)\n",
        "clf = AdaBoostClassifier(n_estimators=100, random_state=0)\n",
        "\n",
        "clf.fit(X_train, y_train)\n",
        "\n",
        "clf.predict(X_test[:, :])\n",
        "ada_boost_classifier_change = clf.score(X_test, y_test)\n",
        "\n",
        "X_train, X_test, y_train, y_test = train_test_split(transformer, Z, test_size=0.20, random_state=0)\n",
        "\n",
        "clf.fit(X_train, y_train)\n",
        "\n",
        "clf.predict(X_test[:, :])\n",
        "ada_boost_classifier = clf.score(X_test, y_test)"
      ],
      "execution_count": 7,
      "outputs": []
    },
    {
      "cell_type": "code",
      "metadata": {
        "id": "0EPdqGWTrjLv"
      },
      "source": [
        "#K nearest neighbor algorithm\n",
        "\n",
        "from sklearn.neighbors import KNeighborsClassifier\n",
        "X_train, X_test, y_train, y_test = train_test_split(transformer, Y, test_size=0.20, random_state=0)\n",
        "clf = KNeighborsClassifier(n_neighbors=3)\n",
        "clf.fit(X_train, y_train)\n",
        "\n",
        "clf.predict(X_test[:, :])\n",
        "k_nearest_neighbor_change = clf.score(X_test, y_test)\n",
        "\n",
        "X_train, X_test, y_train, y_test = train_test_split(transformer, Z, test_size=0.20, random_state=0)\n",
        "\n",
        "clf.fit(X_train, y_train)\n",
        "\n",
        "clf.predict(X_test[:, :])\n",
        "k_nearest_neighbor = clf.score(X_test, y_test)"
      ],
      "execution_count": 8,
      "outputs": []
    },
    {
      "cell_type": "code",
      "metadata": {
        "id": "U-_UkjCy2T6t",
        "colab": {
          "base_uri": "https://localhost:8080/"
        },
        "outputId": "a3f8c2c5-c0a1-4c6b-e732-93f71895af15"
      },
      "source": [
        "print(\"Random Forest:         \", round(random_forest_change, 8))\n",
        "print(\"Multi Layer Perceptron:\", round(multilayer_perceptron_change, 8))\n",
        "print(\"Decision Tree:         \", round(decision_tree_change, 8))\n",
        "print(\"Gaussian NB:           \", round(gaussianNB_change, 8))\n",
        "print(\"Quadratic Discriminant:\", round(quadratic_discriminant_change, 8))\n",
        "print(\"Ada Boost:             \", round(ada_boost_classifier_change, 8))\n",
        "#print(\"K Nearest Neighbors:   \", round(k_nearest_neighbor_change, 8))"
      ],
      "execution_count": 9,
      "outputs": [
        {
          "output_type": "stream",
          "text": [
            "Random Forest:          0.76613272\n",
            "Multi Layer Perceptron: 0.77528604\n",
            "Decision Tree:          0.68466819\n",
            "Gaussian NB:            0.73043478\n",
            "Quadratic Discriminant: 0.75377574\n",
            "Ada Boost:              0.79588101\n"
          ],
          "name": "stdout"
        }
      ]
    },
    {
      "cell_type": "code",
      "metadata": {
        "id": "TMm94xMgurM3",
        "colab": {
          "base_uri": "https://localhost:8080/"
        },
        "outputId": "bec740bd-bd32-4749-aa76-8d1e8b42cbf5"
      },
      "source": [
        "print(\"Random Forest:         \", round(random_forest, 8))\n",
        "print(\"Multi Layer Perceptron:\", round(multilayer_perceptron, 8))\n",
        "print(\"Decision Tree:         \", round(decision_tree, 8))\n",
        "print(\"Gaussian NB:           \", round(gaussianNB, 8))\n",
        "print(\"Quadratic Discriminant:\", round(quadratic_discriminant, 8))\n",
        "print(\"Ada Boost:             \", round(ada_boost_classifier, 8))\n",
        "#print(\"K Nearest Neighbors:   \", round(k_nearest_neighbor, 8))\n"
      ],
      "execution_count": 10,
      "outputs": [
        {
          "output_type": "stream",
          "text": [
            "Random Forest:          0.76018307\n",
            "Multi Layer Perceptron: 0.79771167\n",
            "Decision Tree:          0.6617849\n",
            "Gaussian NB:            0.75240275\n",
            "Quadratic Discriminant: 0.7784897\n",
            "Ada Boost:              0.79542334\n"
          ],
          "name": "stdout"
        }
      ]
    }
  ]
}